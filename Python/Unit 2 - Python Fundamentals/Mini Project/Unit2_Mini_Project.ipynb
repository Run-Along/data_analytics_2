{
  "nbformat": 4,
  "nbformat_minor": 0,
  "metadata": {
    "colab": {
      "name": "Unit2_Mini_Project.ipynb",
      "provenance": [],
      "collapsed_sections": [],
      "include_colab_link": true
    },
    "kernelspec": {
      "name": "python3",
      "display_name": "Python 3"
    }
  },
  "cells": [
    {
      "cell_type": "markdown",
      "metadata": {
        "id": "view-in-github",
        "colab_type": "text"
      },
      "source": [
        "<a href=\"https://colab.research.google.com/github/Run-Along/data_analytics_2/blob/main/Python/Unit%202%20-%20Python%20Fundamentals/Mini%20Project/Unit2_Mini_Project.ipynb\" target=\"_parent\"><img src=\"https://colab.research.google.com/assets/colab-badge.svg\" alt=\"Open In Colab\"/></a>"
      ]
    },
    {
      "cell_type": "markdown",
      "metadata": {
        "id": "Vgs8Kp4TidFQ"
      },
      "source": [
        "# Intrdouction to Python - Mini Project"
      ]
    },
    {
      "cell_type": "markdown",
      "metadata": {
        "id": "_Hq7Ny79iwgD"
      },
      "source": [
        "#Python Project – Odd or Even\r\n",
        "\r\n",
        "Ask the user for a number. Depending on whether the number is even or odd, print out an appropriate message to the user. Hint: how does an even / odd number react differently when divided by 2?\r\n"
      ]
    },
    {
      "cell_type": "code",
      "metadata": {
        "id": "lotvpVpvlKsR",
        "colab": {
          "base_uri": "https://localhost:8080/"
        },
        "outputId": "fa11445d-8bfa-4b8e-8eed-071e88c42537"
      },
      "source": [
        "num = int(input(\"Please give me a number: \"))"
      ],
      "execution_count": 1,
      "outputs": [
        {
          "output_type": "stream",
          "text": [
            "Please give me a number: 6\n"
          ],
          "name": "stdout"
        }
      ]
    },
    {
      "cell_type": "code",
      "metadata": {
        "id": "oNXY-CfrlLbE",
        "colab": {
          "base_uri": "https://localhost:8080/"
        },
        "outputId": "8b6316af-1ca1-4aba-d701-a7b7b0031618"
      },
      "source": [
        "if num % 2 == 0:\r\n",
        "  print(\"\\nThis is an even number.\")\r\n",
        "else:\r\n",
        "  print(\"\\nThis is an odd number.\")"
      ],
      "execution_count": 11,
      "outputs": [
        {
          "output_type": "stream",
          "text": [
            "\n",
            "This is an even number.\n"
          ],
          "name": "stdout"
        }
      ]
    },
    {
      "cell_type": "markdown",
      "metadata": {
        "id": "io_27RSlizno"
      },
      "source": [
        "# Bonus:\r\n",
        "\r\n",
        "1.\tIf the number is a multiple of 4, print out a different message."
      ]
    },
    {
      "cell_type": "code",
      "metadata": {
        "colab": {
          "base_uri": "https://localhost:8080/"
        },
        "id": "uXekyDJRCF7O",
        "outputId": "74b0e57e-51d8-4eb1-92a7-291033cb7556"
      },
      "source": [
        "bonus_num = int(input(\"Please give me a number: \"))"
      ],
      "execution_count": 12,
      "outputs": [
        {
          "output_type": "stream",
          "text": [
            "Please give me a number: 16\n"
          ],
          "name": "stdout"
        }
      ]
    },
    {
      "cell_type": "code",
      "metadata": {
        "id": "Dh1o5cAylSHB",
        "colab": {
          "base_uri": "https://localhost:8080/"
        },
        "outputId": "6c91390c-843a-4799-e439-6bb6aa723ff0"
      },
      "source": [
        "if bonus_num % 2 == 0:\r\n",
        "  if bonus_num % 4 == 0:\r\n",
        "    print(\"\\nThis is an even number and a multiple of 4.\")\r\n",
        "  else:\r\n",
        "    print(\"\\nThis is an even number.\")\r\n",
        "else:\r\n",
        "  print(\"\\nThis is an odd number.\")"
      ],
      "execution_count": 13,
      "outputs": [
        {
          "output_type": "stream",
          "text": [
            "\n",
            "This is an even number and a multiple of 4.\n"
          ],
          "name": "stdout"
        }
      ]
    },
    {
      "cell_type": "markdown",
      "metadata": {
        "id": "8Z_56H4mCx3g"
      },
      "source": [
        "2.\tAsk the user for two numbers: one number to check (call it num) and one number to divide by (check). If check divides evenly into num, tell that to the user. If not, print a different appropriate message."
      ]
    },
    {
      "cell_type": "code",
      "metadata": {
        "id": "vs8ppR-wlSKL",
        "colab": {
          "base_uri": "https://localhost:8080/"
        },
        "outputId": "e66b6b99-3288-4741-f72f-b1ce1c541e20"
      },
      "source": [
        "another_num = int(input(\"Please give me a number: \"))"
      ],
      "execution_count": 14,
      "outputs": [
        {
          "output_type": "stream",
          "text": [
            "Please give me a number: 10\n"
          ],
          "name": "stdout"
        }
      ]
    },
    {
      "cell_type": "code",
      "metadata": {
        "id": "5mkKtxzunuqc",
        "colab": {
          "base_uri": "https://localhost:8080/"
        },
        "outputId": "8e3e8009-eaaa-4e6b-864b-d885c59ed80a"
      },
      "source": [
        "check = int(input(\"Please give me a divisor: \"))"
      ],
      "execution_count": 15,
      "outputs": [
        {
          "output_type": "stream",
          "text": [
            "Please give me a divisor: 2\n"
          ],
          "name": "stdout"
        }
      ]
    },
    {
      "cell_type": "code",
      "metadata": {
        "id": "rmfPnI5onutd",
        "colab": {
          "base_uri": "https://localhost:8080/"
        },
        "outputId": "0a2cd9ce-ae59-40b9-e5a3-6acb4481cb69"
      },
      "source": [
        "if another_num % check == 0:\r\n",
        "  print(another_num, \"can be divided by\",check, \"without remainder.\")\r\n",
        "else:\r\n",
        "  print(another_num, \"cannot be divided by\",check, \"without remainder.\")"
      ],
      "execution_count": 17,
      "outputs": [
        {
          "output_type": "stream",
          "text": [
            "10 can be divided by 2 without remainder.\n"
          ],
          "name": "stdout"
        }
      ]
    }
  ]
}