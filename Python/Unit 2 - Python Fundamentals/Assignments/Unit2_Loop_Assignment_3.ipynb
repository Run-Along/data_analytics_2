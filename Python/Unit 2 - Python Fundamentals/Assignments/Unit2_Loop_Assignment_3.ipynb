{
  "nbformat": 4,
  "nbformat_minor": 0,
  "metadata": {
    "colab": {
      "name": "Unit2_Loop_Assignment_3.ipynb",
      "provenance": [],
      "collapsed_sections": [],
      "include_colab_link": true
    },
    "kernelspec": {
      "name": "python3",
      "display_name": "Python 3"
    }
  },
  "cells": [
    {
      "cell_type": "markdown",
      "metadata": {
        "id": "view-in-github",
        "colab_type": "text"
      },
      "source": [
        "<a href=\"https://colab.research.google.com/github/Run-Along/data_analytics_2/blob/main/Python/Unit%202%20-%20Python%20Fundamentals/Assignments/Unit2_Loop_Assignment_3.ipynb\" target=\"_parent\"><img src=\"https://colab.research.google.com/assets/colab-badge.svg\" alt=\"Open In Colab\"/></a>"
      ]
    },
    {
      "cell_type": "markdown",
      "metadata": {
        "id": "Vgs8Kp4TidFQ"
      },
      "source": [
        "# Intrdouction to Python - Loop - Assignment #3 "
      ]
    },
    {
      "cell_type": "markdown",
      "metadata": {
        "id": "_Hq7Ny79iwgD"
      },
      "source": [
        "## 1. Create a list that holds 5 data variables. "
      ]
    },
    {
      "cell_type": "code",
      "metadata": {
        "id": "lotvpVpvlKsR"
      },
      "source": [
        "placesList = [\"London\", \"Paris\", \"France\", \"Jamaica\", \"New York\"]"
      ],
      "execution_count": null,
      "outputs": []
    },
    {
      "cell_type": "code",
      "metadata": {
        "id": "oNXY-CfrlLbE",
        "colab": {
          "base_uri": "https://localhost:8080/"
        },
        "outputId": "ff548118-8262-4469-a505-31e41400e95f"
      },
      "source": [
        "print(placesList)"
      ],
      "execution_count": null,
      "outputs": [
        {
          "output_type": "stream",
          "text": [
            "['London', 'Paris', 'France', 'Jamaica', 'New York']\n"
          ],
          "name": "stdout"
        }
      ]
    },
    {
      "cell_type": "markdown",
      "metadata": {
        "id": "io_27RSlizno"
      },
      "source": [
        "## 2.\tPrint out those variables by using a for loop"
      ]
    },
    {
      "cell_type": "code",
      "metadata": {
        "id": "Dh1o5cAylSHB",
        "colab": {
          "base_uri": "https://localhost:8080/"
        },
        "outputId": "089f0c0f-2e80-4f1e-8431-61e03127c524"
      },
      "source": [
        "for places in placesList:\r\n",
        "  print(places)"
      ],
      "execution_count": null,
      "outputs": [
        {
          "output_type": "stream",
          "text": [
            "London\n",
            "Paris\n",
            "France\n",
            "Jamaica\n",
            "New York\n"
          ],
          "name": "stdout"
        }
      ]
    },
    {
      "cell_type": "markdown",
      "metadata": {
        "id": "DAW8m8IQjRyR"
      },
      "source": [
        "## 3.\tModify your for loop to add a message to your for loop."
      ]
    },
    {
      "cell_type": "code",
      "metadata": {
        "id": "guULMEhrjYtT",
        "colab": {
          "base_uri": "https://localhost:8080/"
        },
        "outputId": "47c86f81-bdba-4763-d8cb-bbae2a0de3bb"
      },
      "source": [
        "for places in placesList:\r\n",
        "  print(places +\", is a beautiful place to visit once in your life.\")"
      ],
      "execution_count": null,
      "outputs": [
        {
          "output_type": "stream",
          "text": [
            "London, is a beautiful place to visit once in your life.\n",
            "Paris, is a beautiful place to visit once in your life.\n",
            "France, is a beautiful place to visit once in your life.\n",
            "Jamaica, is a beautiful place to visit once in your life.\n",
            "New York, is a beautiful place to visit once in your life.\n"
          ],
          "name": "stdout"
        }
      ]
    },
    {
      "cell_type": "markdown",
      "metadata": {
        "id": "dpa_YOt4jXyo"
      },
      "source": [
        "## 4.\tUse a for loop to print even numbers from 1-20."
      ]
    },
    {
      "cell_type": "code",
      "metadata": {
        "id": "pltxfnh3iJLW",
        "colab": {
          "base_uri": "https://localhost:8080/"
        },
        "outputId": "a31fc419-0168-4d17-95d2-86e2aa081445"
      },
      "source": [
        "for i in range(1,21):\r\n",
        "  print(i)"
      ],
      "execution_count": null,
      "outputs": [
        {
          "output_type": "stream",
          "text": [
            "1\n",
            "2\n",
            "3\n",
            "4\n",
            "5\n",
            "6\n",
            "7\n",
            "8\n",
            "9\n",
            "10\n",
            "11\n",
            "12\n",
            "13\n",
            "14\n",
            "15\n",
            "16\n",
            "17\n",
            "18\n",
            "19\n",
            "20\n"
          ],
          "name": "stdout"
        }
      ]
    },
    {
      "cell_type": "markdown",
      "metadata": {
        "id": "Ka84RGy4jmLT"
      },
      "source": [
        "## 5.\tSort your list in alphabetic order."
      ]
    },
    {
      "cell_type": "code",
      "metadata": {
        "id": "34IFFtK4jrg4"
      },
      "source": [
        "placesList.sort()"
      ],
      "execution_count": null,
      "outputs": []
    },
    {
      "cell_type": "code",
      "metadata": {
        "id": "M17RfxQljvqb",
        "colab": {
          "base_uri": "https://localhost:8080/"
        },
        "outputId": "d1301283-ff28-40a0-89d9-6a2ef4f9ddea"
      },
      "source": [
        "print(placesList)"
      ],
      "execution_count": null,
      "outputs": [
        {
          "output_type": "stream",
          "text": [
            "['France', 'Jamaica', 'London', 'New York', 'Paris']\n"
          ],
          "name": "stdout"
        }
      ]
    },
    {
      "cell_type": "markdown",
      "metadata": {
        "id": "ZKHwdMnLliFy"
      },
      "source": [
        "## 6.\tPrint out the first three elements of your list."
      ]
    },
    {
      "cell_type": "code",
      "metadata": {
        "id": "eXUDZfLOllTT",
        "colab": {
          "base_uri": "https://localhost:8080/"
        },
        "outputId": "3cde65f1-f3f2-4663-e33c-33681dc69d42"
      },
      "source": [
        "print(placesList[0:3])"
      ],
      "execution_count": null,
      "outputs": [
        {
          "output_type": "stream",
          "text": [
            "['France', 'Jamaica', 'London']\n"
          ],
          "name": "stdout"
        }
      ]
    },
    {
      "cell_type": "markdown",
      "metadata": {
        "id": "oedkoLECmv6x"
      },
      "source": [
        "## 7.\tCreate a loop to print the last 2 elements of your list."
      ]
    },
    {
      "cell_type": "code",
      "metadata": {
        "id": "jjh2GdktllZY",
        "colab": {
          "base_uri": "https://localhost:8080/"
        },
        "outputId": "e321b711-271b-4729-d7b1-8430e9d2bc36"
      },
      "source": [
        "print(placesList[-2:])"
      ],
      "execution_count": null,
      "outputs": [
        {
          "output_type": "stream",
          "text": [
            "['New York', 'Paris']\n"
          ],
          "name": "stdout"
        }
      ]
    }
  ]
}