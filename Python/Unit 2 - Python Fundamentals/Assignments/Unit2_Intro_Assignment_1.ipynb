{
  "nbformat": 4,
  "nbformat_minor": 0,
  "metadata": {
    "colab": {
      "name": "Unit2_Intro_Assignment_1.ipynb",
      "provenance": [],
      "collapsed_sections": [],
      "include_colab_link": true
    },
    "kernelspec": {
      "name": "python3",
      "display_name": "Python 3"
    }
  },
  "cells": [
    {
      "cell_type": "markdown",
      "metadata": {
        "id": "view-in-github",
        "colab_type": "text"
      },
      "source": [
        "<a href=\"https://colab.research.google.com/github/Run-Along/data_analytics_2/blob/main/Python/Unit%202%20-%20Python%20Fundamentals/Assignments/Unit2_Intro_Assignment_1.ipynb\" target=\"_parent\"><img src=\"https://colab.research.google.com/assets/colab-badge.svg\" alt=\"Open In Colab\"/></a>"
      ]
    },
    {
      "cell_type": "markdown",
      "metadata": {
        "id": "Vgs8Kp4TidFQ"
      },
      "source": [
        "# Lesson 1 - Intrdouction to Python - Assignment 1"
      ]
    },
    {
      "cell_type": "markdown",
      "metadata": {
        "id": "_Hq7Ny79iwgD"
      },
      "source": [
        "## 1.\tWhat is Python and why is it useful?\r\n",
        "Python is an open source programming language that is a combination of object oriented programming and functional programming."
      ]
    },
    {
      "cell_type": "markdown",
      "metadata": {
        "id": "io_27RSlizno"
      },
      "source": [
        "## 2.\tAre the following variable names allowed in python?"
      ]
    },
    {
      "cell_type": "markdown",
      "metadata": {
        "id": "9_GYv9VTiqrI"
      },
      "source": [
        "a.\t1_message\r\n",
        "\r\n",
        "No. You cannot start a variable name with a number.\r\n",
        "\r\n",
        "b.\tGreeting_message\r\n",
        "\r\n",
        "Yes.\r\n",
        "\r\n",
        "c.\tMessage_1\r\n",
        "\r\n",
        "Yes\r\n",
        "\r\n",
        "d.\tFirst name\r\n",
        "\r\n",
        "No.\r\n",
        "\r\n",
        "e.\tFull_name\r\n",
        "\r\n",
        "Yes\r\n"
      ]
    },
    {
      "cell_type": "markdown",
      "metadata": {
        "id": "DAW8m8IQjRyR"
      },
      "source": [
        "## 3.\tCreate a variable that holds the string “hello there!”"
      ]
    },
    {
      "cell_type": "code",
      "metadata": {
        "id": "guULMEhrjYtT"
      },
      "source": [
        "example_var = \"hello there!\""
      ],
      "execution_count": null,
      "outputs": []
    },
    {
      "cell_type": "code",
      "metadata": {
        "id": "cv946RaOjw-G",
        "colab": {
          "base_uri": "https://localhost:8080/"
        },
        "outputId": "a89774b7-1b6b-43b3-c107-82f190ebb829"
      },
      "source": [
        "print(example_var)"
      ],
      "execution_count": null,
      "outputs": [
        {
          "output_type": "stream",
          "text": [
            "hello there!\n"
          ],
          "name": "stdout"
        }
      ]
    },
    {
      "cell_type": "markdown",
      "metadata": {
        "id": "dpa_YOt4jXyo"
      },
      "source": [
        "## 4.\tCreate a variable for first name, last name and an email extension.  Concatenating all three together to form an email address.  For example: firstnamelastname@gmail.com"
      ]
    },
    {
      "cell_type": "code",
      "metadata": {
        "id": "pltxfnh3iJLW"
      },
      "source": [
        "first_name = 'Jonathan'"
      ],
      "execution_count": null,
      "outputs": []
    },
    {
      "cell_type": "code",
      "metadata": {
        "id": "PzH5Rcn-jwPL"
      },
      "source": [
        "last_name = \"Midi\""
      ],
      "execution_count": null,
      "outputs": []
    },
    {
      "cell_type": "code",
      "metadata": {
        "id": "GWLnpplStW2r"
      },
      "source": [
        "extension = '@gmail.com'"
      ],
      "execution_count": null,
      "outputs": []
    },
    {
      "cell_type": "code",
      "metadata": {
        "colab": {
          "base_uri": "https://localhost:8080/"
        },
        "id": "ThAQQjQFtVZK",
        "outputId": "16c15aa2-885e-4c06-8f3b-0f4134271ddb"
      },
      "source": [
        "print(first_name + last_name + extension)"
      ],
      "execution_count": null,
      "outputs": [
        {
          "output_type": "stream",
          "text": [
            "JonathanMidi@gmail.com\n"
          ],
          "name": "stdout"
        }
      ]
    },
    {
      "cell_type": "markdown",
      "metadata": {
        "id": "Ka84RGy4jmLT"
      },
      "source": [
        "## 5.\tStore someone you know name in a variable called name.  Print their name in lower and uppercase using a method."
      ]
    },
    {
      "cell_type": "code",
      "metadata": {
        "id": "34IFFtK4jrg4"
      },
      "source": [
        "friend = 'Maria Santos'"
      ],
      "execution_count": null,
      "outputs": []
    },
    {
      "cell_type": "code",
      "metadata": {
        "id": "M17RfxQljvqb",
        "colab": {
          "base_uri": "https://localhost:8080/"
        },
        "outputId": "10b0669a-9f89-4445-c527-150f408a4255"
      },
      "source": [
        "print(friend.lower())"
      ],
      "execution_count": null,
      "outputs": [
        {
          "output_type": "stream",
          "text": [
            "maria santos\n"
          ],
          "name": "stdout"
        }
      ]
    },
    {
      "cell_type": "code",
      "metadata": {
        "id": "4agTp_Cyju4-",
        "colab": {
          "base_uri": "https://localhost:8080/"
        },
        "outputId": "5d300216-c9b6-47f7-b0b8-cc3b33786a49"
      },
      "source": [
        "print(friend.upper())"
      ],
      "execution_count": null,
      "outputs": [
        {
          "output_type": "stream",
          "text": [
            "MARIA SANTOS\n"
          ],
          "name": "stdout"
        }
      ]
    }
  ]
}