{
  "nbformat": 4,
  "nbformat_minor": 0,
  "metadata": {
    "colab": {
      "name": "Unit2_Conditional_Operations_Assignment_4.ipynb",
      "provenance": [],
      "authorship_tag": "ABX9TyPQyCkJ6nUi7wjhWAURvc4R",
      "include_colab_link": true
    },
    "kernelspec": {
      "name": "python3",
      "display_name": "Python 3"
    }
  },
  "cells": [
    {
      "cell_type": "markdown",
      "metadata": {
        "id": "view-in-github",
        "colab_type": "text"
      },
      "source": [
        "<a href=\"https://colab.research.google.com/github/Run-Along/data_analytics_2/blob/main/Python/Unit%202%20-%20Python%20Fundamentals/Assignments/Unit2_Conditional_Operations_Assignment_4.ipynb\" target=\"_parent\"><img src=\"https://colab.research.google.com/assets/colab-badge.svg\" alt=\"Open In Colab\"/></a>"
      ]
    },
    {
      "cell_type": "markdown",
      "metadata": {
        "id": "ZKLGDxZFhJ2m"
      },
      "source": [
        "##**Intrdouction to Python - Conditional Operations Assignment #4**\r\n",
        "**If-elif-else Statements**\r\n",
        "\r\n",
        "**1. Make a list of 5 or more usernames, including an admin account. Imagine you are writing code that will welcome people to your application on login. Loop through the list and print your greeting.**\r\n",
        "\r\n",
        "a. If the admin account logs in, give them a special greeting. They’re the admin, after all!\r\n",
        "\r\n",
        "b. Other users can get the generic greeting\r\n"
      ]
    },
    {
      "cell_type": "code",
      "metadata": {
        "id": "doG9qnjVgg8w"
      },
      "source": [
        "users = ['John Doe', 'Mike Sallas', 'Unis Gray', 'Karey Bolatis', 'Admin']"
      ],
      "execution_count": null,
      "outputs": []
    },
    {
      "cell_type": "code",
      "metadata": {
        "colab": {
          "base_uri": "https://localhost:8080/"
        },
        "id": "eE-L920Oi5ko",
        "outputId": "6ab0a790-5ec0-470a-91fb-181343ae5749"
      },
      "source": [
        "print(users)"
      ],
      "execution_count": null,
      "outputs": [
        {
          "output_type": "stream",
          "text": [
            "['John Doe', 'Mike Sallas', 'Unis Gray', 'Karey Bolatis', 'Admin']\n"
          ],
          "name": "stdout"
        }
      ]
    },
    {
      "cell_type": "code",
      "metadata": {
        "colab": {
          "base_uri": "https://localhost:8080/"
        },
        "id": "GdljPDCJh--b",
        "outputId": "1e426ecf-6b0d-4232-bd83-900673893425"
      },
      "source": [
        "for name in users:\r\n",
        "  if name == 'Admin':\r\n",
        "    print(\"Hello to the\", name +\". All systems operational.\")\r\n",
        "  else:\r\n",
        "    print(\"Hello,\",name+\", have a nice day.\")"
      ],
      "execution_count": null,
      "outputs": [
        {
          "output_type": "stream",
          "text": [
            "Hello, John Doe, have a nice day.\n",
            "Hello, Mike Sallas, have a nice day.\n",
            "Hello, Unis Gray, have a nice day.\n",
            "Hello, Karey Bolatis, have a nice day.\n",
            "Hello to the Admin. All systems operational.\n"
          ],
          "name": "stdout"
        }
      ]
    },
    {
      "cell_type": "markdown",
      "metadata": {
        "id": "Ko7x_yPVifmX"
      },
      "source": [
        "**2. Store numbers 1-10 in a list**\r\n",
        "\r\n",
        "a. Loop through the list\r\n",
        "\r\n",
        "b. Use an if-elif-else chain inside your loop to print the ordinal ending for each number – for example – 1st, 2nd, 3rd … etc.\r\n"
      ]
    },
    {
      "cell_type": "code",
      "metadata": {
        "id": "hF7Lj9lNicCa"
      },
      "source": [
        "numbers = [1,2,3,4,5,6,7,8,9,10]"
      ],
      "execution_count": null,
      "outputs": []
    },
    {
      "cell_type": "code",
      "metadata": {
        "colab": {
          "base_uri": "https://localhost:8080/"
        },
        "id": "LaIfYTQSi8RT",
        "outputId": "b7b9a2ed-75ee-4715-cd01-8a85d5e8e2a4"
      },
      "source": [
        "print(numbers)"
      ],
      "execution_count": null,
      "outputs": [
        {
          "output_type": "stream",
          "text": [
            "[1, 2, 3, 4, 5, 6, 7, 8, 9, 10]\n"
          ],
          "name": "stdout"
        }
      ]
    },
    {
      "cell_type": "code",
      "metadata": {
        "colab": {
          "base_uri": "https://localhost:8080/"
        },
        "id": "Bbcvjyyzxjth",
        "outputId": "f1ce0adc-362e-4c16-af5d-8c161c54c9bd"
      },
      "source": [
        "for num in numbers:\r\n",
        "  if num == 1:\r\n",
        "    print(str(num) + 'st')\r\n",
        "  elif num == 2:\r\n",
        "    print(str(num) + 'nd')\r\n",
        "  else:\r\n",
        "    print(str(num) + 'th')"
      ],
      "execution_count": null,
      "outputs": [
        {
          "output_type": "stream",
          "text": [
            "1st\n",
            "2nd\n",
            "3th\n",
            "4th\n",
            "5th\n",
            "6th\n",
            "7th\n",
            "8th\n",
            "9th\n",
            "10th\n"
          ],
          "name": "stdout"
        }
      ]
    }
  ]
}